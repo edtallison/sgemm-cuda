{
  "cells": [
    {
      "cell_type": "markdown",
      "id": "b9326784",
      "metadata": {},
      "source": [
        "This notebook installs dependencies, builds the project, and runs a selected kernel on Colab's GPU.\n",
        "\n",
        "**Note:** Ensure Colab runtime type is set to GPU (Runtime → Change runtime type → GPU)"
      ]
    },
    {
      "cell_type": "code",
      "execution_count": null,
      "id": "35ef02c6",
      "metadata": {},
      "outputs": [],
      "source": [
        "# install system dependencies\n",
        "!apt-get update && apt-get install -y cmake ninja-build"
      ]
    },
    {
      "cell_type": "code",
      "execution_count": null,
      "id": "37a03120",
      "metadata": {},
      "outputs": [],
      "source": [
        "# clone\n",
        "!git clone https://github.com/edtallison/sgemm-cuda.git\n",
        "%cd sgemm-cuda"
      ]
    },
    {
      "cell_type": "code",
      "execution_count": null,
      "id": "cd1855de",
      "metadata": {},
      "outputs": [],
      "source": [
        "# build\n",
        "!mkdir -p build && cd build && cmake -G Ninja .. && ninja"
      ]
    },
    {
      "cell_type": "code",
      "execution_count": null,
      "id": "093a0b6d",
      "metadata": {},
      "outputs": [],
      "source": [
        "# run for kernel 1\n",
        "!cd build && ./sgemm 1"
      ]
    }
  ],
  "metadata": {
    "kernelspec": {
      "display_name": "Python 3",
      "language": "python",
      "name": "python3"
    },
    "language_info": {
      "name": "python"
    }
  },
  "nbformat": 4,
  "nbformat_minor": 5
}
